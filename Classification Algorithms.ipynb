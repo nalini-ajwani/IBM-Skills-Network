{
  "metadata": {
    "language_info": {
      "codemirror_mode": {
        "name": "python",
        "version": 3
      },
      "file_extension": ".py",
      "mimetype": "text/x-python",
      "name": "python",
      "nbconvert_exporter": "python",
      "pygments_lexer": "ipython3",
      "version": "3.8"
    },
    "kernelspec": {
      "name": "python",
      "display_name": "Pyolite",
      "language": "python"
    }
  },
  "nbformat_minor": 4,
  "nbformat": 4,
  "cells": [
    {
      "cell_type": "markdown",
      "source": "<p style=\"text-align:center\">\n    <a href=\"https://skills.network/?utm_medium=Exinfluencer&utm_source=Exinfluencer&utm_content=000026UJ&utm_term=10006555&utm_id=NA-SkillsNetwork-Channel-SkillsNetworkCoursesIBMDeveloperSkillsNetworkML0101ENSkillsNetwork20718538-2022-01-01\">\n    <img src=\"https://cf-courses-data.s3.us.cloud-object-storage.appdomain.cloud/assets/logos/SN_web_lightmode.png\" width=\"200\" alt=\"Skills Network Logo\"  />\n    </a>\n</p>\n\n<h1 align=\"center\"><font size=\"5\">Final Project: Classification with Python</font></h1>\n",
      "metadata": {}
    },
    {
      "cell_type": "markdown",
      "source": "<h2>Table of Contents</h2>\n<div class=\"alert alert-block alert-info\" style=\"margin-top: 20px\">\n    <ul>\n    <li><a href=\"https://#Section_1\">Instructions</a></li>\n    <li><a href=\"https://#Section_2\">About the Data</a></li>\n    <li><a href=\"https://#Section_3\">Importing Data </a></li>\n    <li><a href=\"https://#Section_4\">Data Preprocessing</a> </li>\n    <li><a href=\"https://#Section_5\">One Hot Encoding </a></li>\n    <li><a href=\"https://#Section_6\">Train and Test Data Split </a></li>\n    <li><a href=\"https://#Section_7\">Train Logistic Regression, KNN, Decision Tree, SVM, and Linear Regression models and return their appropriate accuracy scores</a></li>\n</a></li>\n</div>\n<p>Estimated Time Needed: <strong>180 min</strong></p>\n</div>\n\n<hr>\n",
      "metadata": {}
    },
    {
      "cell_type": "markdown",
      "source": "# Instructions\n",
      "metadata": {}
    },
    {
      "cell_type": "markdown",
      "source": "In this notebook, you will  practice all the classification algorithms that we have learned in this course.\n\n\nBelow, is where we are going to use the classification algorithms to create a model based on our training data and evaluate our testing data using evaluation metrics learned in the course.\n\nWe will use some of the algorithms taught in the course, specifically:\n\n1. Linear Regression\n2. KNN\n3. Decision Trees\n4. Logistic Regression\n5. SVM\n\nWe will evaluate our models using:\n\n1.  Accuracy Score\n2.  Jaccard Index\n3.  F1-Score\n4.  LogLoss\n5.  Mean Absolute Error\n6.  Mean Squared Error\n7.  R2-Score\n\nFinally, you will use your models to generate the report at the end. \n",
      "metadata": {}
    },
    {
      "cell_type": "markdown",
      "source": "# About The Dataset\n",
      "metadata": {}
    },
    {
      "cell_type": "markdown",
      "source": "The original source of the data is Australian Government's Bureau of Meteorology and the latest data can be gathered from [http://www.bom.gov.au/climate/dwo/](http://www.bom.gov.au/climate/dwo/?utm_medium=Exinfluencer&utm_source=Exinfluencer&utm_content=000026UJ&utm_term=10006555&utm_id=NA-SkillsNetwork-Channel-SkillsNetworkCoursesIBMDeveloperSkillsNetworkML0101ENSkillsNetwork20718538-2022-01-01).\n\nThe dataset to be used has extra columns like 'RainToday' and our target is 'RainTomorrow', which was gathered from the Rattle at [https://bitbucket.org/kayontoga/rattle/src/master/data/weatherAUS.RData](https://bitbucket.org/kayontoga/rattle/src/master/data/weatherAUS.RData?utm_medium=Exinfluencer&utm_source=Exinfluencer&utm_content=000026UJ&utm_term=10006555&utm_id=NA-SkillsNetwork-Channel-SkillsNetworkCoursesIBMDeveloperSkillsNetworkML0101ENSkillsNetwork20718538-2022-01-01)\n\n\n",
      "metadata": {}
    },
    {
      "cell_type": "markdown",
      "source": "This dataset contains observations of weather metrics for each day from 2008 to 2017. The **weatherAUS.csv** dataset includes the following fields:\n\n| Field         | Description                                           | Unit            | Type   |\n| ------------- | ----------------------------------------------------- | --------------- | ------ |\n| Date          | Date of the Observation in YYYY-MM-DD                 | Date            | object |\n| Location      | Location of the Observation                           | Location        | object |\n| MinTemp       | Minimum temperature                                   | Celsius         | float  |\n| MaxTemp       | Maximum temperature                                   | Celsius         | float  |\n| Rainfall      | Amount of rainfall                                    | Millimeters     | float  |\n| Evaporation   | Amount of evaporation                                 | Millimeters     | float  |\n| Sunshine      | Amount of bright sunshine                             | hours           | float  |\n| WindGustDir   | Direction of the strongest gust                       | Compass Points  | object |\n| WindGustSpeed | Speed of the strongest gust                           | Kilometers/Hour | object |\n| WindDir9am    | Wind direction averaged of 10 minutes prior to 9am    | Compass Points  | object |\n| WindDir3pm    | Wind direction averaged of 10 minutes prior to 3pm    | Compass Points  | object |\n| WindSpeed9am  | Wind speed averaged of 10 minutes prior to 9am        | Kilometers/Hour | float  |\n| WindSpeed3pm  | Wind speed averaged of 10 minutes prior to 3pm        | Kilometers/Hour | float  |\n| Humidity9am   | Humidity at 9am                                       | Percent         | float  |\n| Humidity3pm   | Humidity at 3pm                                       | Percent         | float  |\n| Pressure9am   | Atmospheric pressure reduced to mean sea level at 9am | Hectopascal     | float  |\n| Pressure3pm   | Atmospheric pressure reduced to mean sea level at 3pm | Hectopascal     | float  |\n| Cloud9am      | Fraction of the sky obscured by cloud at 9am          | Eights          | float  |\n| Cloud3pm      | Fraction of the sky obscured by cloud at 3pm          | Eights          | float  |\n| Temp9am       | Temperature at 9am                                    | Celsius         | float  |\n| Temp3pm       | Temperature at 3pm                                    | Celsius         | float  |\n| RainToday     | If there was rain today                               | Yes/No          | object |\n| RainTomorrow  | If there is rain tomorrow                             | Yes/No          | float  |\n\nColumn definitions were gathered from [http://www.bom.gov.au/climate/dwo/IDCJDW0000.shtml](http://www.bom.gov.au/climate/dwo/IDCJDW0000.shtml?utm_medium=Exinfluencer&utm_source=Exinfluencer&utm_content=000026UJ&utm_term=10006555&utm_id=NA-SkillsNetwork-Channel-SkillsNetworkCoursesIBMDeveloperSkillsNetworkML0101ENSkillsNetwork20718538-2022-01-01)\n\n",
      "metadata": {}
    },
    {
      "cell_type": "markdown",
      "source": "## **Import the required libraries**\n",
      "metadata": {}
    },
    {
      "cell_type": "code",
      "source": "# All Libraries required for this lab are listed below. The libraries pre-installed on Skills Network Labs are commented.\n# !mamba install -qy pandas==1.3.4 numpy==1.21.4 seaborn==0.9.0 matplotlib==3.5.0 scikit-learn==0.20.1\n# Note: If your environment doesn't support \"!mamba install\", use \"!pip install\"",
      "metadata": {},
      "execution_count": null,
      "outputs": []
    },
    {
      "cell_type": "code",
      "source": "# Surpress warnings:\ndef warn(*args, **kwargs):\n    pass\nimport warnings\nwarnings.warn = warn",
      "metadata": {
        "trusted": true
      },
      "execution_count": 1,
      "outputs": []
    },
    {
      "cell_type": "code",
      "source": "#you are running the lab in your  browser, so we will install the libraries using ``piplite``\nimport piplite\nawait piplite.install(['pandas'])\nawait piplite.install(['numpy'])\n",
      "metadata": {
        "trusted": true
      },
      "execution_count": 2,
      "outputs": []
    },
    {
      "cell_type": "code",
      "source": "import pandas as pd\nfrom sklearn.linear_model import LogisticRegression\nfrom sklearn.linear_model import LinearRegression\nfrom sklearn import preprocessing\nimport numpy as np\nfrom sklearn.model_selection import train_test_split\nfrom sklearn.neighbors import KNeighborsClassifier\nfrom sklearn.tree import DecisionTreeClassifier\nfrom sklearn import svm\nfrom sklearn.metrics import jaccard_score\nfrom sklearn.metrics import f1_score\nfrom sklearn.metrics import log_loss\nfrom sklearn.metrics import confusion_matrix, accuracy_score\nimport sklearn.metrics as metrics",
      "metadata": {
        "trusted": true
      },
      "execution_count": 3,
      "outputs": []
    },
    {
      "cell_type": "markdown",
      "source": "### Importing the Dataset\n",
      "metadata": {}
    },
    {
      "cell_type": "code",
      "source": "from pyodide.http import pyfetch\n\nasync def download(url, filename):\n    response = await pyfetch(url)\n    if response.status == 200:\n        with open(filename, \"wb\") as f:\n            f.write(await response.bytes())",
      "metadata": {
        "trusted": true
      },
      "execution_count": 4,
      "outputs": []
    },
    {
      "cell_type": "code",
      "source": "path='https://cf-courses-data.s3.us.cloud-object-storage.appdomain.cloud/IBMDeveloperSkillsNetwork-ML0101EN-SkillUp/labs/ML-FinalAssignment/Weather_Data.csv'",
      "metadata": {
        "trusted": true
      },
      "execution_count": 5,
      "outputs": []
    },
    {
      "cell_type": "code",
      "source": "await download(path, \"Weather_Data.csv\")\nfilename =\"Weather_Data.csv\"",
      "metadata": {
        "trusted": true
      },
      "execution_count": 6,
      "outputs": []
    },
    {
      "cell_type": "code",
      "source": "df = pd.read_csv(\"Weather_Data.csv\")\ndf.head()",
      "metadata": {
        "trusted": true
      },
      "execution_count": 7,
      "outputs": [
        {
          "execution_count": 7,
          "output_type": "execute_result",
          "data": {
            "text/plain": "       Date  MinTemp  MaxTemp  Rainfall  Evaporation  Sunshine WindGustDir  \\\n0  2/1/2008     19.5     22.4      15.6          6.2       0.0           W   \n1  2/2/2008     19.5     25.6       6.0          3.4       2.7           W   \n2  2/3/2008     21.6     24.5       6.6          2.4       0.1           W   \n3  2/4/2008     20.2     22.8      18.8          2.2       0.0           W   \n4  2/5/2008     19.7     25.7      77.4          4.8       0.0           W   \n\n   WindGustSpeed WindDir9am WindDir3pm  ...  Humidity9am  Humidity3pm  \\\n0             41          S        SSW  ...           92           84   \n1             41          W          E  ...           83           73   \n2             41        ESE        ESE  ...           88           86   \n3             41        NNE          E  ...           83           90   \n4             41        NNE          W  ...           88           74   \n\n   Pressure9am  Pressure3pm  Cloud9am  Cloud3pm  Temp9am  Temp3pm  RainToday  \\\n0       1017.6       1017.4         8         8     20.7     20.9        Yes   \n1       1017.9       1016.4         7         7     22.4     24.8        Yes   \n2       1016.7       1015.6         7         8     23.5     23.0        Yes   \n3       1014.2       1011.8         8         8     21.4     20.9        Yes   \n4       1008.3       1004.8         8         8     22.5     25.5        Yes   \n\n   RainTomorrow  \n0           Yes  \n1           Yes  \n2           Yes  \n3           Yes  \n4           Yes  \n\n[5 rows x 22 columns]",
            "text/html": "<div>\n<style scoped>\n    .dataframe tbody tr th:only-of-type {\n        vertical-align: middle;\n    }\n\n    .dataframe tbody tr th {\n        vertical-align: top;\n    }\n\n    .dataframe thead th {\n        text-align: right;\n    }\n</style>\n<table border=\"1\" class=\"dataframe\">\n  <thead>\n    <tr style=\"text-align: right;\">\n      <th></th>\n      <th>Date</th>\n      <th>MinTemp</th>\n      <th>MaxTemp</th>\n      <th>Rainfall</th>\n      <th>Evaporation</th>\n      <th>Sunshine</th>\n      <th>WindGustDir</th>\n      <th>WindGustSpeed</th>\n      <th>WindDir9am</th>\n      <th>WindDir3pm</th>\n      <th>...</th>\n      <th>Humidity9am</th>\n      <th>Humidity3pm</th>\n      <th>Pressure9am</th>\n      <th>Pressure3pm</th>\n      <th>Cloud9am</th>\n      <th>Cloud3pm</th>\n      <th>Temp9am</th>\n      <th>Temp3pm</th>\n      <th>RainToday</th>\n      <th>RainTomorrow</th>\n    </tr>\n  </thead>\n  <tbody>\n    <tr>\n      <th>0</th>\n      <td>2/1/2008</td>\n      <td>19.5</td>\n      <td>22.4</td>\n      <td>15.6</td>\n      <td>6.2</td>\n      <td>0.0</td>\n      <td>W</td>\n      <td>41</td>\n      <td>S</td>\n      <td>SSW</td>\n      <td>...</td>\n      <td>92</td>\n      <td>84</td>\n      <td>1017.6</td>\n      <td>1017.4</td>\n      <td>8</td>\n      <td>8</td>\n      <td>20.7</td>\n      <td>20.9</td>\n      <td>Yes</td>\n      <td>Yes</td>\n    </tr>\n    <tr>\n      <th>1</th>\n      <td>2/2/2008</td>\n      <td>19.5</td>\n      <td>25.6</td>\n      <td>6.0</td>\n      <td>3.4</td>\n      <td>2.7</td>\n      <td>W</td>\n      <td>41</td>\n      <td>W</td>\n      <td>E</td>\n      <td>...</td>\n      <td>83</td>\n      <td>73</td>\n      <td>1017.9</td>\n      <td>1016.4</td>\n      <td>7</td>\n      <td>7</td>\n      <td>22.4</td>\n      <td>24.8</td>\n      <td>Yes</td>\n      <td>Yes</td>\n    </tr>\n    <tr>\n      <th>2</th>\n      <td>2/3/2008</td>\n      <td>21.6</td>\n      <td>24.5</td>\n      <td>6.6</td>\n      <td>2.4</td>\n      <td>0.1</td>\n      <td>W</td>\n      <td>41</td>\n      <td>ESE</td>\n      <td>ESE</td>\n      <td>...</td>\n      <td>88</td>\n      <td>86</td>\n      <td>1016.7</td>\n      <td>1015.6</td>\n      <td>7</td>\n      <td>8</td>\n      <td>23.5</td>\n      <td>23.0</td>\n      <td>Yes</td>\n      <td>Yes</td>\n    </tr>\n    <tr>\n      <th>3</th>\n      <td>2/4/2008</td>\n      <td>20.2</td>\n      <td>22.8</td>\n      <td>18.8</td>\n      <td>2.2</td>\n      <td>0.0</td>\n      <td>W</td>\n      <td>41</td>\n      <td>NNE</td>\n      <td>E</td>\n      <td>...</td>\n      <td>83</td>\n      <td>90</td>\n      <td>1014.2</td>\n      <td>1011.8</td>\n      <td>8</td>\n      <td>8</td>\n      <td>21.4</td>\n      <td>20.9</td>\n      <td>Yes</td>\n      <td>Yes</td>\n    </tr>\n    <tr>\n      <th>4</th>\n      <td>2/5/2008</td>\n      <td>19.7</td>\n      <td>25.7</td>\n      <td>77.4</td>\n      <td>4.8</td>\n      <td>0.0</td>\n      <td>W</td>\n      <td>41</td>\n      <td>NNE</td>\n      <td>W</td>\n      <td>...</td>\n      <td>88</td>\n      <td>74</td>\n      <td>1008.3</td>\n      <td>1004.8</td>\n      <td>8</td>\n      <td>8</td>\n      <td>22.5</td>\n      <td>25.5</td>\n      <td>Yes</td>\n      <td>Yes</td>\n    </tr>\n  </tbody>\n</table>\n<p>5 rows × 22 columns</p>\n</div>"
          },
          "metadata": {}
        }
      ]
    },
    {
      "cell_type": "markdown",
      "source": "### Data Preprocessing\n",
      "metadata": {}
    },
    {
      "cell_type": "markdown",
      "source": "#### One Hot Encoding\n",
      "metadata": {}
    },
    {
      "cell_type": "markdown",
      "source": "First, we need to perform one hot encoding to convert categorical variables to binary variables.\n",
      "metadata": {}
    },
    {
      "cell_type": "code",
      "source": "df_sydney_processed = pd.get_dummies(data=df, columns=['RainToday', 'WindGustDir', 'WindDir9am', 'WindDir3pm'])",
      "metadata": {
        "trusted": true
      },
      "execution_count": 8,
      "outputs": []
    },
    {
      "cell_type": "markdown",
      "source": "Next, we replace the values of the 'RainTomorrow' column changing them from a categorical column to a binary column. We do not use the `get_dummies` method because we would end up with two columns for 'RainTomorrow' and we do not want, since 'RainTomorrow' is our target.\n",
      "metadata": {}
    },
    {
      "cell_type": "code",
      "source": "df_sydney_processed.replace(['No', 'Yes'], [0,1], inplace=True)",
      "metadata": {
        "trusted": true
      },
      "execution_count": 9,
      "outputs": []
    },
    {
      "cell_type": "markdown",
      "source": "### Training Data and Test Data\n",
      "metadata": {}
    },
    {
      "cell_type": "markdown",
      "source": "Now, we set our 'features' or x values and our Y or target variable.\n",
      "metadata": {}
    },
    {
      "cell_type": "code",
      "source": "df_sydney_processed.drop('Date',axis=1,inplace=True)",
      "metadata": {
        "trusted": true
      },
      "execution_count": 10,
      "outputs": []
    },
    {
      "cell_type": "code",
      "source": "df_sydney_processed = df_sydney_processed.astype(float)",
      "metadata": {
        "trusted": true
      },
      "execution_count": 11,
      "outputs": []
    },
    {
      "cell_type": "code",
      "source": "features = df_sydney_processed.drop(columns='RainTomorrow', axis=1)\nY = df_sydney_processed['RainTomorrow']",
      "metadata": {
        "trusted": true
      },
      "execution_count": 12,
      "outputs": []
    },
    {
      "cell_type": "code",
      "source": "from sklearn.model_selection import train_test_split\nfeatures_train, X_test, Y_train, y_test = train_test_split( features, Y, test_size=0.2, random_state=10)\nprint ('Train set:', features_train.shape,  Y_train.shape)\nprint ('Test set:', X_test.shape,  y_test.shape)",
      "metadata": {
        "trusted": true
      },
      "execution_count": 31,
      "outputs": [
        {
          "name": "stdout",
          "text": "Train set: (2616, 66) (2616,)\nTest set: (655, 66) (655,)\n",
          "output_type": "stream"
        }
      ]
    },
    {
      "cell_type": "markdown",
      "source": "### Linear Regression\n",
      "metadata": {}
    },
    {
      "cell_type": "markdown",
      "source": "#### Q1) Use the `train_test_split` function to split the `features` and `Y` dataframes with a `test_size` of `0.2` and the `random_state` set to `10`.\n",
      "metadata": {}
    },
    {
      "cell_type": "code",
      "source": "#Enter Your Code, Execute and take the Screenshot\nfrom sklearn.model_selection import train_test_split\nfeatures_train, X_test, Y_train, y_test = train_test_split( features, Y, test_size=0.2, random_state=10)\nprint ('Train set:', features_train.shape,  Y_train.shape)\nprint ('Test set:', X_test.shape,  y_test.shape)\n",
      "metadata": {
        "trusted": true
      },
      "execution_count": 36,
      "outputs": [
        {
          "name": "stdout",
          "text": "Train set: (2616, 66) (2616,)\nTest set: (655, 66) (655,)\n",
          "output_type": "stream"
        }
      ]
    },
    {
      "cell_type": "code",
      "source": "x_train, x_test, y_train, y_test = ",
      "metadata": {},
      "execution_count": null,
      "outputs": []
    },
    {
      "cell_type": "markdown",
      "source": "#### Q2) Create and train a Linear Regression model called LinearReg using the training data (`x_train`, `y_train`).\n",
      "metadata": {}
    },
    {
      "cell_type": "code",
      "source": "from sklearn.preprocessing import StandardScaler\nscaler= StandardScaler()\nfeatures_train = scaler.fit_transform(features_train)\nx_test = scaler.transform(X_test)",
      "metadata": {
        "trusted": true
      },
      "execution_count": 33,
      "outputs": []
    },
    {
      "cell_type": "code",
      "source": "LinearReg =LinearRegression()\nLinearReg.fit(features_train, Y_train)\nprint(LinearReg.coef_)",
      "metadata": {
        "trusted": true
      },
      "execution_count": 34,
      "outputs": [
        {
          "name": "stdout",
          "text": "[-1.07926373e-01  5.90076965e-02  8.48237139e-03  1.79302991e-02\n -1.34159004e-01  4.36535899e-02  1.21399584e-02  6.56703568e-03\n  1.24747427e-02  1.41854177e-01  4.44184322e-02 -5.79096433e-02\n -2.27561327e-02  2.37035070e-02  6.67292633e-02 -1.28517945e-02\n -5.51625957e+12 -5.51625957e+12 -1.67147435e+11 -2.20244046e+11\n -1.79323979e+11 -8.15920446e+10 -1.95575411e+11 -1.89861257e+11\n -1.12300168e+11 -1.32660876e+11 -1.94872400e+11 -1.25882027e+11\n -2.27901975e+11 -1.98356659e+11 -1.12300168e+11 -4.43389559e+11\n -1.39079589e+11 -1.74573363e+11  1.89353888e+11  1.41016818e+11\n  1.85413171e+11  1.61224808e+11  1.42103754e+11  1.49468025e+11\n  1.63091288e+11  1.51499025e+11  1.89353888e+11  1.57416049e+11\n  1.72077249e+11  2.09788031e+11  1.24705671e+11  4.47493938e+11\n  3.26577112e+11  1.52503166e+11 -5.51596486e+10 -4.36435675e+10\n -4.25505474e+10 -1.85776273e+10 -4.18440375e+10 -2.00652881e+10\n -1.48913528e+10 -1.87705671e+10 -3.69930389e+10 -3.42862205e+10\n -3.73339192e+10 -2.91435208e+10 -1.58407902e+10 -3.38066270e+10\n -3.21058499e+10 -2.49384095e+10]\n",
          "output_type": "stream"
        }
      ]
    },
    {
      "cell_type": "code",
      "source": "#Enter Your Code, Execute and take the Screenshot",
      "metadata": {
        "trusted": true
      },
      "execution_count": 20,
      "outputs": []
    },
    {
      "cell_type": "markdown",
      "source": "#### Q3) Now use the `predict` method on the testing data (`x_test`) and save it to the array `predictions`.\n",
      "metadata": {}
    },
    {
      "cell_type": "code",
      "source": "#Enter Your Code, Execute and take the Screenshot",
      "metadata": {},
      "execution_count": null,
      "outputs": []
    },
    {
      "cell_type": "code",
      "source": "predictions =LinearReg.predict(x_test)\npredictions",
      "metadata": {
        "trusted": true
      },
      "execution_count": 37,
      "outputs": [
        {
          "execution_count": 37,
          "output_type": "execute_result",
          "data": {
            "text/plain": "array([-5.43058967e+12, -5.30445621e+12, -5.29626581e+12, -5.56731484e+12,\n       -5.54596182e+12, -5.81513547e+12, -5.47490411e+12, -5.23198158e+12,\n       -5.86534075e+12, -5.55470574e+12, -5.81608000e+12, -5.54426104e+12,\n       -5.30618508e+12, -5.35370046e+12, -5.55579876e+12, -5.85938941e+12,\n       -5.84969651e+12, -5.56781289e+12, -5.26210956e+12, -5.54948911e+12,\n       -5.29064016e+12, -5.78414732e+12, -5.66517787e+12, -5.42890144e+12,\n       -5.30618508e+12, -5.83840188e+12, -5.21805884e+12, -5.83036447e+12,\n       -5.60996731e+12, -5.35444918e+12, -5.65801043e+12, -5.19220172e+12,\n       -5.46508615e+12, -5.68823167e+12, -5.53299759e+12, -5.50739827e+12,\n       -5.46013498e+12, -5.59849684e+12, -5.44041752e+12, -5.55399923e+12,\n       -5.67671558e+12, -5.57170743e+12, -5.64955951e+12, -5.52704654e+12,\n       -5.54129871e+12, -5.54914823e+12, -5.54948911e+12, -5.26827741e+12,\n       -5.54129871e+12, -5.55470574e+12, -5.52704654e+12, -5.45357007e+12,\n       -5.83651930e+12, -5.37240561e+12, -5.58667311e+12, -5.67562256e+12,\n       -5.57764074e+12, -5.58899377e+12, -5.57168250e+12, -5.51803005e+12,\n       -5.30798461e+12, -5.40680637e+12, -5.62321002e+12, -5.83922612e+12,\n       -5.58487358e+12, -5.27544485e+12, -5.29107272e+12, -5.54426104e+12,\n       -5.55399923e+12, -5.34031118e+12, -5.54644141e+12, -5.34416933e+12,\n       -5.54644141e+12, -5.41155698e+12, -5.54389449e+12, -5.19964343e+12,\n       -5.51980149e+12, -5.62865142e+12, -5.54426104e+12, -5.57837075e+12,\n       -5.67040594e+12, -5.86230561e+12, -5.52799598e+12, -5.40609986e+12,\n       -5.30063107e+12, -5.50731249e+12, -5.56865974e+12, -5.51793501e+12,\n       -5.56731484e+12, -5.78414732e+12, -5.46508615e+12, -5.58603376e+12,\n       -5.57586731e+12, -5.56731484e+12, -5.61390802e+12, -5.65374210e+12,\n       -5.29064016e+12, -5.54914823e+12, -5.30047093e+12, -5.55399923e+12,\n       -5.64190515e+12, -5.87379196e+12, -5.53048746e+12, -5.41198954e+12,\n       -5.60907734e+12, -5.56731484e+12, -5.51619199e+12, -5.55272093e+12,\n       -5.58853959e+12, -5.80728828e+12, -5.83223095e+12, -5.46508615e+12,\n       -5.30967284e+12, -5.84969651e+12, -5.82490580e+12, -5.55579876e+12,\n       -5.52312944e+12, -5.67491606e+12, -5.66687864e+12, -5.29849864e+12,\n       -5.81608000e+12, -5.56731484e+12, -5.30618508e+12, -5.31879768e+12,\n       -5.30092892e+12, -5.42188878e+12, -5.54596182e+12, -5.53397172e+12,\n       -5.28237583e+12, -5.60637052e+12, -5.77900462e+12, -5.53709360e+12,\n       -5.54948911e+12, -5.54596182e+12, -5.55579876e+12, -5.60601052e+12,\n       -5.81608000e+12, -5.52799598e+12, -5.62546501e+12, -5.80728828e+12,\n       -5.54129871e+12, -5.45357007e+12, -5.83121545e+12, -5.62899230e+12,\n       -5.61181245e+12, -5.84143218e+12, -5.29173318e+12, -5.57245372e+12,\n       -5.59245421e+12, -5.64013777e+12, -5.66735824e+12, -5.45532692e+12,\n       -5.56731484e+12, -5.61266220e+12, -5.27714562e+12, -5.55399923e+12,\n       -5.61390802e+12, -5.56819824e+12, -5.33400153e+12, -5.56084022e+12,\n       -5.59079330e+12, -5.47839863e+12, -5.66687864e+12, -5.54426104e+12,\n       -5.58582177e+12, -5.30798461e+12, -5.58606349e+12, -5.60506681e+12,\n       -5.27846362e+12, -5.26827741e+12, -5.52799598e+12, -5.67562256e+12,\n       -5.54644141e+12, -5.57006538e+12, -5.56731484e+12, -5.66735824e+12,\n       -5.30097195e+12, -5.30047093e+12, -5.83012243e+12, -5.29064016e+12,\n       -5.65064645e+12, -5.49927897e+12, -5.33265325e+12, -5.52205947e+12,\n       -5.60230938e+12, -5.45357007e+12, -5.27248252e+12, -5.54426104e+12,\n       -5.54129871e+12, -5.26300487e+12, -5.63624390e+12, -5.58042199e+12,\n       -5.54596182e+12, -5.54129871e+12, -5.27947882e+12, -5.54596182e+12,\n       -5.59491738e+12, -5.56731484e+12, -5.27775711e+12, -5.22893388e+12,\n       -5.62407942e+12, -5.68823167e+12, -5.33400153e+12, -5.68823167e+12,\n       -5.51951771e+12, -5.36086790e+12, -5.26827741e+12, -5.54948911e+12,\n       -5.80762916e+12, -5.30618508e+12, -5.57170743e+12, -5.82545489e+12,\n       -5.29626581e+12, -5.59425374e+12, -5.29849864e+12, -5.30618508e+12,\n       -5.45357007e+12, -5.61446173e+12, -5.82545489e+12, -5.54596182e+12,\n       -5.62407942e+12, -5.54596182e+12, -5.53563016e+12, -5.53709360e+12,\n       -5.66735824e+12, -5.62724395e+12, -5.53035817e+12, -5.86047635e+12,\n       -5.68823167e+12, -5.57170743e+12, -5.54644141e+12, -5.82545489e+12,\n       -5.34416933e+12, -5.59574141e+12, -5.51726254e+12, -5.66687864e+12,\n       -5.61337480e+12, -5.57638864e+12, -5.66221554e+12, -5.33400153e+12,\n       -5.54129871e+12, -5.80728828e+12, -5.53397172e+12, -5.82336273e+12,\n       -5.80762916e+12, -5.58853959e+12, -5.60996731e+12, -5.61157527e+12,\n       -5.56533003e+12, -5.39636167e+12, -5.30092892e+12, -5.60230938e+12,\n       -5.81284579e+12, -5.22661579e+12, -5.30047093e+12, -5.62373854e+12,\n       -5.62899230e+12, -5.54216212e+12, -5.80728828e+12, -5.87193650e+12,\n       -5.33921816e+12, -5.30618508e+12, -5.67040594e+12, -5.62899230e+12,\n       -5.55470574e+12, -5.53709360e+12, -5.45357007e+12, -5.59626297e+12,\n       -5.56731484e+12, -5.31879768e+12, -5.80458146e+12, -5.60230938e+12,\n       -5.82545489e+12, -5.52312944e+12, -5.57136655e+12, -5.60230938e+12,\n       -5.54426104e+12, -5.63916010e+12, -5.56731484e+12, -5.41198954e+12,\n       -5.45357007e+12, -5.34416933e+12, -5.55911200e+12, -5.62163812e+12,\n       -5.29626581e+12, -5.54596182e+12, -5.49533826e+12, -5.54426104e+12,\n       -5.56731484e+12, -5.61892238e+12, -5.41198954e+12, -5.54596182e+12,\n       -5.56731484e+12, -5.27544485e+12, -5.59364099e+12, -5.54914823e+12,\n       -5.30063107e+12, -5.36609597e+12, -5.56432513e+12, -5.26827741e+12,\n       -5.58040124e+12, -5.41155698e+12, -5.82545489e+12, -5.49101465e+12,\n       -5.35182726e+12, -5.63630609e+12, -5.62407942e+12, -5.49757430e+12,\n       -5.59214158e+12, -5.86118894e+12, -5.56049934e+12, -5.66517787e+12,\n       -5.48222628e+12, -5.26300487e+12, -5.82721125e+12, -5.42154790e+12,\n       -5.82185810e+12, -5.48707393e+12, -5.85938941e+12, -5.54129871e+12,\n       -5.56432513e+12, -5.33366065e+12, -5.78685414e+12, -5.60601052e+12,\n       -5.67491606e+12, -5.52799598e+12, -5.57586731e+12, -5.53709360e+12,\n       -5.55399923e+12, -5.80762916e+12, -5.51616952e+12, -5.52727610e+12,\n       -5.66517787e+12, -5.23622545e+12, -5.33265325e+12, -5.67671558e+12,\n       -5.59473401e+12, -5.53867786e+12, -5.41198954e+12, -5.24968926e+12,\n       -5.82545489e+12, -5.55470574e+12, -5.55399923e+12, -5.86118894e+12,\n       -5.82692067e+12, -5.55470574e+12, -5.29064016e+12, -5.59054882e+12,\n       -5.64796337e+12, -5.83223095e+12, -5.29107272e+12, -5.42710191e+12,\n       -5.55579876e+12, -5.55470574e+12, -5.68823167e+12, -5.55470574e+12,\n       -5.80458146e+12, -5.33400153e+12, -5.58853959e+12, -5.57170743e+12,\n       -5.82490580e+12, -5.54644141e+12, -5.57136655e+12, -5.56731484e+12,\n       -5.54948911e+12, -5.52830002e+12, -5.65184258e+12, -5.19690659e+12,\n       -5.49195207e+12, -5.31378654e+12, -5.79036053e+12, -5.55470574e+12,\n       -5.48707393e+12, -5.45333795e+12, -5.53092576e+12, -5.53092576e+12,\n       -5.56819824e+12, -5.45177054e+12, -5.54921277e+12, -5.54596182e+12,\n       -5.53709360e+12, -5.82507246e+12, -5.59079330e+12, -5.78366773e+12,\n       -5.59726123e+12, -5.68823167e+12, -5.61266220e+12, -5.50503361e+12,\n       -5.56731484e+12, -5.56731484e+12, -5.55470574e+12, -5.68823167e+12,\n       -5.42318728e+12, -5.34416933e+12, -5.36086790e+12, -5.84273153e+12,\n       -5.56259626e+12, -5.41335034e+12, -5.55201442e+12, -5.53709360e+12,\n       -5.54818575e+12, -5.30618858e+12, -5.66735824e+12, -5.54426104e+12,\n       -5.79350467e+12, -5.67562256e+12, -5.55470574e+12, -5.66687864e+12,\n       -5.54921277e+12, -5.42639890e+12, -5.54216212e+12, -5.55092160e+12,\n       -5.55470574e+12, -5.84026836e+12, -5.54402959e+12, -5.31378654e+12,\n       -5.21805884e+12, -5.26827741e+12, -5.61378845e+12, -5.26340428e+12,\n       -5.54596182e+12, -5.53709360e+12, -5.34753261e+12, -5.40047346e+12,\n       -5.57334094e+12, -5.46696122e+12, -5.82875873e+12, -5.54914823e+12,\n       -5.56958568e+12, -5.61549561e+12, -5.19400125e+12, -5.34416933e+12,\n       -5.56731484e+12, -5.85171749e+12, -5.54051588e+12, -5.57245372e+12,\n       -5.49012163e+12, -5.82866369e+12, -5.54671649e+12, -5.42188878e+12,\n       -5.53769669e+12, -5.29278155e+12, -5.84969651e+12, -5.53222048e+12,\n       -5.54866368e+12, -5.42710191e+12, -5.54948911e+12, -5.41155698e+12,\n       -5.55399923e+12, -5.49202716e+12, -5.82185810e+12, -5.54644141e+12,\n       -5.56731484e+12, -5.54596182e+12, -5.55579876e+12, -5.29278155e+12,\n       -5.56432863e+12, -5.29107272e+12, -5.84413900e+12, -5.21020932e+12,\n       -5.31950069e+12, -5.30227046e+12, -5.52359545e+12, -5.83925181e+12,\n       -5.54596182e+12, -5.67491606e+12, -5.83208437e+12, -5.54426104e+12,\n       -5.27714562e+12, -5.77900462e+12, -5.59214158e+12, -5.64219524e+12,\n       -5.50911202e+12, -5.21317165e+12, -5.27714562e+12, -5.56731484e+12,\n       -5.80762916e+12, -5.53709360e+12, -5.54596182e+12, -5.53709360e+12,\n       -5.81513547e+12, -5.54914823e+12, -5.55911200e+12, -5.55272093e+12,\n       -5.56432863e+12, -5.54596182e+12, -5.19400125e+12, -5.68823167e+12,\n       -5.86230561e+12, -5.59711728e+12, -5.54644141e+12, -5.24165185e+12,\n       -5.54426104e+12, -5.87193650e+12, -5.78719502e+12, -5.63913037e+12,\n       -5.23995107e+12, -5.33265325e+12, -5.58071805e+12, -5.55579876e+12,\n       -5.66517787e+12, -5.52093575e+12, -5.60941822e+12, -5.57136655e+12,\n       -5.57666783e+12, -5.55470574e+12, -5.58667311e+12, -5.57953202e+12,\n       -5.54914823e+12, -5.57170743e+12, -5.33400153e+12, -5.55272093e+12,\n       -5.56865974e+12, -5.59849684e+12, -5.68823167e+12, -5.67006506e+12,\n       -5.54596182e+12, -5.59214158e+12, -5.56731484e+12, -5.54596182e+12,\n       -5.84195673e+12, -5.55470574e+12, -5.55272093e+12, -5.56731484e+12,\n       -5.63804343e+12, -5.33095383e+12, -5.67040594e+12, -5.56731484e+12,\n       -5.55470574e+12, -5.54596182e+12, -5.78719502e+12, -5.37131259e+12,\n       -5.27762522e+12, -5.54051588e+12, -5.82545489e+12, -5.56731484e+12,\n       -5.78685414e+12, -5.56731484e+12, -5.21958607e+12, -5.54129871e+12,\n       -5.57693773e+12, -5.54914823e+12, -5.45457747e+12, -5.85739273e+12,\n       -5.59214158e+12, -5.60637052e+12, -5.55779252e+12, -5.57347076e+12,\n       -5.33085372e+12, -5.32692104e+12, -5.56225538e+12, -5.46508615e+12,\n       -5.80762916e+12, -5.53092576e+12, -5.47274408e+12, -5.84413900e+12,\n       -5.29626581e+12, -5.87379196e+12, -5.55470574e+12, -5.86922968e+12,\n       -5.55579876e+12, -5.56747329e+12, -5.83922612e+12, -5.58391877e+12,\n       -5.66687864e+12, -5.55399923e+12, -5.85988187e+12, -5.58187523e+12,\n       -5.60227237e+12, -5.59516851e+12, -5.84195673e+12, -5.28033203e+12,\n       -5.41198954e+12, -5.84206789e+12, -5.30063107e+12, -5.54644141e+12,\n       -5.56923221e+12, -5.52852313e+12, -5.63624390e+12, -5.50435057e+12,\n       -5.39636167e+12, -5.56138931e+12, -5.61157527e+12, -5.29107272e+12,\n       -5.53709360e+12, -5.84025595e+12, -5.54948911e+12, -5.81122900e+12,\n       -5.56612466e+12, -5.80728828e+12, -5.45187065e+12, -5.33085372e+12,\n       -5.27544485e+12, -5.63624390e+12, -5.60397952e+12, -5.67562256e+12,\n       -5.87379196e+12, -5.62407942e+12, -5.42184574e+12, -5.55399923e+12,\n       -5.66517787e+12, -5.53092576e+12, -5.80762916e+12, -5.41198954e+12,\n       -5.55046026e+12, -5.53709360e+12, -5.30097195e+12, -5.46132226e+12,\n       -5.60694805e+12, -5.30618508e+12, -5.78719502e+12, -5.33265325e+12,\n       -5.56826585e+12, -5.54948911e+12, -5.27955664e+12, -5.82866369e+12,\n       -5.35790557e+12, -5.53911442e+12, -5.30618508e+12, -5.59104984e+12,\n       -5.61266220e+12, -5.67006506e+12, -5.86227588e+12, -5.55579876e+12,\n       -5.85171749e+12, -5.41198954e+12, -5.54914823e+12, -5.56731484e+12,\n       -5.30411533e+12, -5.54426104e+12, -5.62887963e+12, -5.29291311e+12,\n       -5.28542353e+12, -5.46968749e+12, -5.56731484e+12, -5.54921277e+12,\n       -5.54182124e+12, -5.54987323e+12, -5.63724407e+12, -5.81393881e+12,\n       -5.29107272e+12, -5.42209426e+12, -5.54426104e+12, -5.59646290e+12,\n       -5.45491835e+12, -5.31311854e+12, -5.65644891e+12, -5.53397172e+12,\n       -5.43470336e+12, -5.55579876e+12, -5.41884108e+12, -5.57734185e+12,\n       -5.57638864e+12, -5.55911200e+12, -5.56731484e+12])"
          },
          "metadata": {}
        }
      ]
    },
    {
      "cell_type": "markdown",
      "source": "#### Q4) Using the `predictions` and the `y_test` dataframe calculate the value for each metric using the appropriate function.\n",
      "metadata": {}
    },
    {
      "cell_type": "code",
      "source": "#Enter Your Code, Execute and take the Screenshot",
      "metadata": {},
      "execution_count": null,
      "outputs": []
    },
    {
      "cell_type": "code",
      "source": "from sklearn.metrics import r2_score\nfrom sklearn.metrics import mean_absolute_error\nfrom sklearn.metrics import mean_squared_error\nLinearRegression_MAE = mean_absolute_error(predictions, y_test)\nLinearRegression_MSE = mean_squared_error(predictions, y_test)\nLinearRegression_R2 = r2_score(predictions, y_test)\nLinearRegression_MAE,LinearRegression_MSE,LinearRegression_R2",
      "metadata": {
        "trusted": true
      },
      "execution_count": 43,
      "outputs": [
        {
          "execution_count": 43,
          "output_type": "execute_result",
          "data": {
            "text/plain": "(5548204456564.786, 3.080881731754298e+25, -1172.9095719064974)"
          },
          "metadata": {}
        }
      ]
    },
    {
      "cell_type": "code",
      "source": "from sklearn.metrics import r2_score\nlr2=r2_score(predictions, y_test)\nlr2",
      "metadata": {
        "trusted": true
      },
      "execution_count": 38,
      "outputs": [
        {
          "execution_count": 38,
          "output_type": "execute_result",
          "data": {
            "text/plain": "-1172.9095719064974"
          },
          "metadata": {}
        }
      ]
    },
    {
      "cell_type": "markdown",
      "source": "#### Q5) Show the MAE, MSE, and R2 in a tabular format using data frame for the linear model.\n",
      "metadata": {}
    },
    {
      "cell_type": "code",
      "source": "#Enter Your Code, Execute and take the Screenshot",
      "metadata": {},
      "execution_count": null,
      "outputs": []
    },
    {
      "cell_type": "code",
      "source": "Report = ",
      "metadata": {},
      "execution_count": null,
      "outputs": []
    },
    {
      "cell_type": "markdown",
      "source": "### KNN\n",
      "metadata": {}
    },
    {
      "cell_type": "markdown",
      "source": "#### Q6) Create and train a KNN model called KNN using the training data (`x_train`, `y_train`) with the `n_neighbors` parameter set to `4`.\n",
      "metadata": {}
    },
    {
      "cell_type": "code",
      "source": "#Enter Your Code Below, Execute, and Save the Screenshot of the Final Output",
      "metadata": {},
      "execution_count": null,
      "outputs": []
    },
    {
      "cell_type": "code",
      "source": "from sklearn.neighbors import KNeighborsClassifier\nk = 4\n#Train Model and Predict  \nKNN = KNeighborsClassifier(n_neighbors = k).fit(features_train,Y_train)\nKNN\nX_test_norm = scaler.transform(X_test.astype(float))\nX_test_norm[0:5]",
      "metadata": {
        "trusted": true
      },
      "execution_count": 65,
      "outputs": [
        {
          "execution_count": 65,
          "output_type": "execute_result",
          "data": {
            "text/plain": "array([[ 1.87000000e+01,  3.57000000e+01,  2.00000000e-01,\n         6.00000000e+00,  9.80000000e+00,  5.70000000e+01,\n         1.30000000e+01,  1.70000000e+01,  4.40000000e+01,\n         2.40000000e+01,  1.00840000e+03,  1.00770000e+03,\n         3.00000000e+00,  5.00000000e+00,  2.56000000e+01,\n         3.09000000e+01,  1.00000000e+00, -1.90129937e-17,\n        -1.76549227e-17, -2.78404551e-17, -1.35807098e-18,\n        -3.70074342e-17,  4.26094769e-17, -4.34582713e-17,\n         1.49387808e-17, -4.88905552e-17,  1.35807098e-18,\n         4.34582713e-17, -4.34582713e-17,  1.00000000e+00,\n         1.49387808e-17,  4.48163423e-17,  5.70389811e-17,\n         4.48163423e-17, -3.53098454e-17,  7.33358328e-17,\n         2.37662421e-17, -1.35807098e-17,  8.14842587e-18,\n         1.62968517e-17, -3.39517745e-18,  3.53098454e-17,\n        -4.07421293e-17,  1.08645678e-17, -2.17291357e-17,\n         4.21002003e-17,  6.38293360e-17, -5.29647681e-17,\n         1.00000000e+00,  7.60519748e-17,  6.79035489e-17,\n         9.09907555e-17,  1.00000000e+00, -3.25937035e-17,\n        -1.47690219e-17,  3.25937035e-17, -2.44452776e-17,\n         0.00000000e+00,  3.53098454e-17, -1.49387808e-17,\n         1.69758872e-17,  0.00000000e+00, -1.01855323e-17,\n         2.37662421e-17,  8.14842587e-17, -4.51558600e-17],\n       [ 1.50000000e+01,  2.48000000e+01,  2.24000000e+01,\n         3.40000000e+00,  9.70000000e+00,  3.70000000e+01,\n         1.90000000e+01,  2.00000000e+01,  7.20000000e+01,\n         5.30000000e+01,  1.01720000e+03,  1.01650000e+03,\n         1.00000000e+00,  3.00000000e+00,  1.80000000e+01,\n         2.42000000e+01,  1.90129937e-17,  1.00000000e+00,\n        -1.76549227e-17, -2.78404551e-17, -1.35807098e-18,\n        -3.70074342e-17,  4.26094769e-17, -4.34582713e-17,\n         1.49387808e-17, -4.88905552e-17,  1.35807098e-18,\n         4.34582713e-17, -4.34582713e-17,  1.00000000e+00,\n         1.49387808e-17,  4.48163423e-17,  5.70389811e-17,\n         4.48163423e-17, -3.53098454e-17,  7.33358328e-17,\n         2.37662421e-17, -1.35807098e-17,  8.14842587e-18,\n         1.62968517e-17, -3.39517745e-18,  3.53098454e-17,\n        -4.07421293e-17,  1.08645678e-17, -2.17291357e-17,\n         4.21002003e-17,  6.38293360e-17,  1.00000000e+00,\n        -1.39202275e-17,  7.60519748e-17,  6.79035489e-17,\n         9.09907555e-17,  8.35213652e-17, -3.25937035e-17,\n        -1.47690219e-17,  3.25937035e-17, -2.44452776e-17,\n         0.00000000e+00,  3.53098454e-17, -1.49387808e-17,\n         1.00000000e+00,  0.00000000e+00, -1.01855323e-17,\n         2.37662421e-17,  8.14842587e-17, -4.51558600e-17],\n       [ 8.50000000e+00,  1.60000000e+01,  3.40000000e+00,\n         2.00000000e+00,  4.30000000e+00,  7.40000000e+01,\n         3.50000000e+01,  2.20000000e+01,  8.40000000e+01,\n         8.70000000e+01,  1.00630000e+03,  1.01070000e+03,\n         5.00000000e+00,  7.00000000e+00,  8.70000000e+00,\n         1.22000000e+01,  1.90129937e-17,  1.00000000e+00,\n        -1.76549227e-17, -2.78404551e-17, -1.35807098e-18,\n        -3.70074342e-17,  4.26094769e-17, -4.34582713e-17,\n         1.49387808e-17, -4.88905552e-17,  1.35807098e-18,\n         4.34582713e-17, -4.34582713e-17,  1.00000000e+00,\n         1.49387808e-17,  4.48163423e-17,  5.70389811e-17,\n         4.48163423e-17, -3.53098454e-17,  7.33358328e-17,\n         2.37662421e-17, -1.35807098e-17,  8.14842587e-18,\n         1.62968517e-17, -3.39517745e-18,  3.53098454e-17,\n        -4.07421293e-17,  1.08645678e-17, -2.17291357e-17,\n         4.21002003e-17,  6.38293360e-17,  1.00000000e+00,\n        -1.39202275e-17,  7.60519748e-17,  6.79035489e-17,\n         9.09907555e-17,  8.35213652e-17, -3.25937035e-17,\n        -1.47690219e-17,  3.25937035e-17, -2.44452776e-17,\n         0.00000000e+00,  3.53098454e-17, -1.49387808e-17,\n         1.69758872e-17,  1.00000000e+00, -1.01855323e-17,\n         2.37662421e-17,  8.14842587e-17, -4.51558600e-17],\n       [ 1.17000000e+01,  1.99000000e+01,  1.60000000e+00,\n         1.40000000e+00,  4.60000000e+00,  4.10000000e+01,\n         1.50000000e+01,  7.00000000e+00,  9.20000000e+01,\n         5.30000000e+01,  1.02100000e+03,  1.01710000e+03,\n         7.00000000e+00,  5.00000000e+00,  1.29000000e+01,\n         1.98000000e+01,  1.90129937e-17,  1.00000000e+00,\n        -1.76549227e-17, -2.78404551e-17, -1.35807098e-18,\n        -3.70074342e-17,  4.26094769e-17, -4.34582713e-17,\n         1.49387808e-17, -4.88905552e-17,  1.35807098e-18,\n         4.34582713e-17, -4.34582713e-17,  3.73469519e-18,\n         1.49387808e-17,  1.00000000e+00,  5.70389811e-17,\n         4.48163423e-17, -3.53098454e-17,  7.33358328e-17,\n         2.37662421e-17, -1.35807098e-17,  8.14842587e-18,\n         1.62968517e-17, -3.39517745e-18,  3.53098454e-17,\n        -4.07421293e-17,  1.08645678e-17, -2.17291357e-17,\n         4.21002003e-17,  6.38293360e-17,  1.00000000e+00,\n        -1.39202275e-17,  7.60519748e-17,  1.00000000e+00,\n         9.09907555e-17,  8.35213652e-17, -3.25937035e-17,\n        -1.47690219e-17,  3.25937035e-17, -2.44452776e-17,\n         0.00000000e+00,  3.53098454e-17, -1.49387808e-17,\n         1.69758872e-17,  0.00000000e+00, -1.01855323e-17,\n         2.37662421e-17,  8.14842587e-17, -4.51558600e-17],\n       [ 7.90000000e+00,  1.93000000e+01,  2.20000000e+00,\n         4.00000000e+00,  1.01000000e+01,  4.60000000e+01,\n         2.80000000e+01,  2.00000000e+01,  4.90000000e+01,\n         3.40000000e+01,  1.02470000e+03,  1.02420000e+03,\n         1.00000000e+00,  2.00000000e+00,  1.13000000e+01,\n         1.84000000e+01,  1.90129937e-17,  1.00000000e+00,\n        -1.76549227e-17, -2.78404551e-17, -1.35807098e-18,\n        -3.70074342e-17,  4.26094769e-17, -4.34582713e-17,\n         1.49387808e-17, -4.88905552e-17,  1.35807098e-18,\n         4.34582713e-17, -4.34582713e-17,  3.73469519e-18,\n         1.49387808e-17,  1.00000000e+00,  5.70389811e-17,\n         4.48163423e-17, -3.53098454e-17,  7.33358328e-17,\n         2.37662421e-17, -1.35807098e-17,  8.14842587e-18,\n         1.62968517e-17, -3.39517745e-18,  3.53098454e-17,\n        -4.07421293e-17,  1.08645678e-17, -2.17291357e-17,\n         4.21002003e-17,  6.38293360e-17,  1.00000000e+00,\n        -1.39202275e-17,  7.60519748e-17,  6.79035489e-17,\n         9.09907555e-17,  8.35213652e-17, -3.25937035e-17,\n        -1.47690219e-17,  3.25937035e-17, -2.44452776e-17,\n         0.00000000e+00,  3.53098454e-17, -1.49387808e-17,\n         1.69758872e-17,  0.00000000e+00, -1.01855323e-17,\n         1.00000000e+00,  8.14842587e-17, -4.51558600e-17]])"
          },
          "metadata": {}
        }
      ]
    },
    {
      "cell_type": "markdown",
      "source": "#### Q7) Now use the `predict` method on the testing data (`x_test`) and save it to the array `predictions`.\n",
      "metadata": {}
    },
    {
      "cell_type": "code",
      "source": "#Enter Your Code Below, Execute, and Save the Screenshot of the Final Output",
      "metadata": {},
      "execution_count": null,
      "outputs": []
    },
    {
      "cell_type": "code",
      "source": "predictions =KNN.predict(x_test)\npredictions ",
      "metadata": {
        "trusted": true
      },
      "execution_count": 66,
      "outputs": [
        {
          "execution_count": 66,
          "output_type": "execute_result",
          "data": {
            "text/plain": "array([0., 0., 1., 0., 0., 0., 0., 1., 1., 0., 0., 0., 0., 0., 0., 0., 0.,\n       0., 0., 0., 0., 1., 0., 0., 0., 0., 0., 0., 1., 0., 0., 0., 0., 0.,\n       0., 1., 0., 0., 0., 0., 0., 1., 0., 0., 0., 0., 0., 0., 1., 0., 0.,\n       0., 0., 0., 0., 0., 0., 0., 0., 0., 0., 0., 1., 1., 0., 0., 0., 0.,\n       0., 0., 0., 0., 0., 0., 0., 0., 0., 0., 0., 1., 0., 0., 0., 0., 0.,\n       0., 0., 0., 0., 0., 0., 0., 0., 0., 0., 1., 0., 1., 0., 0., 0., 0.,\n       1., 0., 1., 1., 0., 0., 0., 1., 0., 0., 0., 0., 0., 0., 0., 0., 0.,\n       0., 0., 0., 0., 0., 0., 0., 0., 0., 0., 1., 0., 0., 0., 0., 1., 0.,\n       0., 0., 0., 1., 0., 0., 0., 0., 1., 0., 0., 0., 0., 1., 0., 0., 0.,\n       0., 0., 0., 0., 1., 0., 1., 1., 0., 0., 0., 0., 0., 0., 0., 1., 0.,\n       1., 0., 0., 0., 0., 0., 0., 0., 0., 0., 1., 0., 0., 1., 0., 0., 0.,\n       0., 0., 0., 0., 0., 0., 0., 0., 0., 0., 0., 0., 0., 0., 0., 0., 0.,\n       1., 0., 0., 0., 0., 0., 1., 1., 0., 0., 0., 0., 0., 0., 0., 0., 1.,\n       0., 0., 0., 0., 0., 0., 0., 0., 0., 0., 0., 0., 1., 1., 0., 0., 1.,\n       1., 0., 1., 1., 0., 0., 1., 0., 0., 0., 0., 0., 0., 0., 0., 0., 0.,\n       1., 0., 1., 1., 1., 0., 0., 0., 0., 0., 0., 0., 0., 0., 0., 0., 0.,\n       0., 1., 0., 0., 0., 0., 0., 0., 0., 0., 1., 0., 0., 0., 0., 0., 0.,\n       0., 0., 0., 0., 0., 0., 0., 0., 1., 0., 0., 1., 0., 0., 0., 0., 0.,\n       1., 0., 1., 0., 1., 1., 0., 0., 1., 0., 0., 0., 1., 0., 0., 1., 1.,\n       0., 0., 0., 0., 0., 0., 0., 1., 0., 0., 0., 0., 0., 0., 0., 0., 0.,\n       0., 0., 0., 0., 0., 0., 0., 0., 0., 0., 0., 0., 1., 0., 0., 0., 0.,\n       0., 1., 1., 1., 0., 1., 0., 0., 1., 0., 0., 0., 0., 0., 0., 1., 0.,\n       0., 1., 0., 0., 0., 0., 0., 0., 0., 1., 0., 0., 0., 1., 0., 0., 0.,\n       0., 1., 0., 0., 0., 0., 0., 1., 1., 0., 0., 0., 0., 0., 0., 0., 0.,\n       0., 0., 0., 1., 0., 1., 0., 0., 0., 0., 0., 0., 0., 0., 0., 0., 0.,\n       1., 0., 0., 1., 0., 0., 0., 1., 0., 0., 1., 0., 0., 1., 0., 0., 0.,\n       0., 0., 1., 0., 0., 0., 0., 0., 0., 1., 0., 0., 0., 0., 0., 0., 0.,\n       0., 0., 1., 0., 0., 0., 0., 0., 0., 0., 1., 0., 0., 0., 0., 0., 0.,\n       1., 0., 0., 0., 0., 0., 0., 0., 0., 0., 0., 0., 0., 0., 0., 0., 0.,\n       0., 1., 0., 0., 0., 0., 0., 0., 0., 0., 0., 0., 0., 0., 1., 0., 0.,\n       0., 0., 0., 0., 0., 0., 0., 0., 0., 0., 0., 0., 0., 0., 0., 1., 0.,\n       0., 0., 0., 0., 0., 1., 0., 0., 0., 1., 1., 1., 1., 0., 0., 0., 1.,\n       0., 0., 1., 0., 0., 0., 0., 0., 0., 0., 0., 1., 0., 1., 0., 0., 0.,\n       0., 0., 0., 1., 0., 0., 0., 0., 1., 0., 0., 0., 0., 1., 0., 0., 0.,\n       0., 0., 0., 0., 0., 0., 0., 0., 0., 0., 0., 1., 0., 0., 0., 0., 0.,\n       0., 0., 1., 0., 0., 0., 0., 1., 0., 0., 0., 0., 0., 0., 0., 0., 0.,\n       1., 0., 0., 0., 1., 0., 0., 1., 0., 0., 1., 0., 0., 0., 0., 0., 0.,\n       0., 0., 0., 1., 0., 0., 0., 1., 1., 0., 0., 0., 0., 0., 0., 0., 0.,\n       1., 1., 0., 0., 0., 0., 1., 0., 1.])"
          },
          "metadata": {}
        }
      ]
    },
    {
      "cell_type": "markdown",
      "source": "#### Q8) Using the `predictions` and the `y_test` dataframe calculate the value for each metric using the appropriate function.\n",
      "metadata": {}
    },
    {
      "cell_type": "code",
      "source": "#Enter Your Code Below, Execute, and Save the Screenshot of the Final Output",
      "metadata": {},
      "execution_count": null,
      "outputs": []
    },
    {
      "cell_type": "code",
      "source": "KNN_Accuracy_Score = \nKNN_JaccardIndex = \nKNN_F1_Score = ",
      "metadata": {
        "jupyter": {
          "source_hidden": true
        },
        "tags": []
      },
      "execution_count": null,
      "outputs": []
    },
    {
      "cell_type": "markdown",
      "source": "### Decision Tree\n",
      "metadata": {}
    },
    {
      "cell_type": "markdown",
      "source": "#### Q9) Create and train a Decision Tree model called Tree using the training data (`x_train`, `y_train`).\n",
      "metadata": {}
    },
    {
      "cell_type": "code",
      "source": "#Enter Your Code, Execute and take the Screenshot",
      "metadata": {},
      "execution_count": null,
      "outputs": []
    },
    {
      "cell_type": "code",
      "source": "X_trainset, X_testset, y_trainset, y_testset = train_test_split(X, y, test_size=0.3, random_state=3)\nTree = DecisionTreeClassifier(criterion=\"entropy\", max_depth = 4)\nTree",
      "metadata": {
        "trusted": true
      },
      "execution_count": 67,
      "outputs": [
        {
          "execution_count": 67,
          "output_type": "execute_result",
          "data": {
            "text/plain": "DecisionTreeClassifier(criterion='entropy', max_depth=4)"
          },
          "metadata": {}
        }
      ]
    },
    {
      "cell_type": "markdown",
      "source": "#### Q10) Now use the `predict` method on the testing data (`x_test`) and save it to the array `predictions`.\n",
      "metadata": {}
    },
    {
      "cell_type": "code",
      "source": "#Enter Your Code, Execute and take the Screenshot",
      "metadata": {},
      "execution_count": null,
      "outputs": []
    },
    {
      "cell_type": "code",
      "source": "predictions = Tree.predict(x_test)\npredictions",
      "metadata": {},
      "execution_count": null,
      "outputs": []
    },
    {
      "cell_type": "markdown",
      "source": "#### Q11) Using the `predictions` and the `y_test` dataframe calculate the value for each metric using the appropriate function.\n",
      "metadata": {}
    },
    {
      "cell_type": "code",
      "source": "#Enter Your Code, Execute and take the Screenshot",
      "metadata": {},
      "execution_count": null,
      "outputs": []
    },
    {
      "cell_type": "code",
      "source": "Tree_Accuracy_Score = \nTree_JaccardIndex = \nTree_F1_Score = ",
      "metadata": {},
      "execution_count": null,
      "outputs": []
    },
    {
      "cell_type": "markdown",
      "source": "### Logistic Regression\n",
      "metadata": {}
    },
    {
      "cell_type": "markdown",
      "source": "#### Q12) Use the `train_test_split` function to split the `features` and `Y` dataframes with a `test_size` of `0.2` and the `random_state` set to `1`.\n",
      "metadata": {}
    },
    {
      "cell_type": "code",
      "source": "#Enter Your Code, Execute and take the Screenshot",
      "metadata": {},
      "execution_count": null,
      "outputs": []
    },
    {
      "cell_type": "code",
      "source": "x_train, x_test, y_train, y_test = ",
      "metadata": {},
      "execution_count": null,
      "outputs": []
    },
    {
      "cell_type": "code",
      "source": "from sklearn.model_selection import train_test_split\nX_train, X_test, y_train, y_test = train_test_split( features, Y, test_size=0.2, random_state=4)\nprint ('Train set:', X_train.shape,  y_train.shape)\nprint ('Test set:', X_test.shape,  y_test.shape)",
      "metadata": {
        "trusted": true
      },
      "execution_count": 69,
      "outputs": [
        {
          "name": "stdout",
          "text": "Train set: (2616, 66) (2616,)\nTest set: (655, 66) (655,)\n",
          "output_type": "stream"
        }
      ]
    },
    {
      "cell_type": "markdown",
      "source": "#### Q13) Create and train a LogisticRegression model called LR using the training data (`x_train`, `y_train`) with the `solver` parameter set to `liblinear`.\n",
      "metadata": {}
    },
    {
      "cell_type": "code",
      "source": "#Enter Your Code, Execute and take the Screenshot",
      "metadata": {},
      "execution_count": null,
      "outputs": []
    },
    {
      "cell_type": "code",
      "source": "from sklearn.linear_model import LogisticRegression\nfrom sklearn.metrics import confusion_matrix\nLR = LogisticRegression(C=0.01, solver='liblinear').fit(features_train,Y_train)\nLR",
      "metadata": {
        "trusted": true
      },
      "execution_count": 70,
      "outputs": [
        {
          "execution_count": 70,
          "output_type": "execute_result",
          "data": {
            "text/plain": "LogisticRegression(C=0.01, solver='liblinear')"
          },
          "metadata": {}
        }
      ]
    },
    {
      "cell_type": "markdown",
      "source": "#### Q14) Now, use the `predict` and `predict_proba` methods on the testing data (`x_test`) and save it as 2 arrays `predictions` and `predict_proba`.\n",
      "metadata": {}
    },
    {
      "cell_type": "code",
      "source": "#Enter Your Code, Execute and take the Screenshot",
      "metadata": {},
      "execution_count": null,
      "outputs": []
    },
    {
      "cell_type": "code",
      "source": "predictions = LR.predict(x_test)\npredictions",
      "metadata": {
        "trusted": true
      },
      "execution_count": 46,
      "outputs": [
        {
          "execution_count": 46,
          "output_type": "execute_result",
          "data": {
            "text/plain": "array([0., 0., 1., 0., 0., 1., 0., 1., 1., 0., 0., 0., 0., 0., 0., 1., 0.,\n       1., 0., 0., 0., 1., 0., 0., 0., 0., 0., 0., 1., 0., 0., 0., 0., 0.,\n       0., 1., 0., 1., 0., 0., 0., 1., 0., 0., 0., 0., 0., 0., 1., 0., 0.,\n       0., 0., 0., 0., 0., 0., 1., 1., 0., 0., 0., 1., 1., 0., 0., 0., 0.,\n       0., 0., 0., 0., 0., 0., 0., 0., 0., 0., 0., 1., 0., 0., 0., 0., 1.,\n       0., 0., 1., 0., 0., 0., 0., 0., 0., 0., 1., 0., 1., 0., 0., 0., 0.,\n       1., 0., 1., 1., 0., 1., 0., 1., 1., 0., 0., 0., 0., 0., 1., 0., 0.,\n       0., 0., 0., 0., 0., 0., 0., 0., 1., 0., 1., 0., 0., 0., 0., 0., 0.,\n       0., 0., 0., 1., 0., 0., 0., 0., 1., 0., 0., 0., 0., 1., 0., 0., 0.,\n       0., 0., 0., 0., 1., 0., 1., 1., 0., 0., 0., 0., 0., 0., 0., 0., 0.,\n       1., 0., 1., 0., 0., 0., 0., 0., 0., 0., 1., 0., 0., 1., 0., 0., 0.,\n       0., 0., 0., 0., 0., 0., 0., 0., 0., 0., 0., 0., 0., 1., 0., 0., 0.,\n       1., 0., 0., 0., 0., 0., 0., 0., 1., 0., 0., 0., 0., 0., 1., 0., 1.,\n       0., 0., 0., 0., 0., 0., 0., 0., 0., 0., 0., 0., 1., 0., 0., 0., 1.,\n       1., 0., 1., 1., 0., 0., 0., 0., 0., 0., 0., 0., 0., 0., 0., 0., 0.,\n       1., 0., 1., 1., 1., 0., 0., 0., 0., 0., 0., 0., 0., 0., 0., 0., 0.,\n       0., 1., 0., 0., 1., 0., 0., 0., 0., 0., 1., 0., 1., 0., 0., 0., 0.,\n       0., 0., 0., 0., 0., 0., 0., 0., 0., 0., 0., 1., 0., 0., 1., 0., 0.,\n       1., 0., 1., 0., 1., 1., 1., 0., 1., 1., 0., 0., 0., 0., 0., 0., 1.,\n       0., 0., 0., 0., 0., 0., 0., 1., 1., 0., 0., 0., 0., 0., 0., 0., 0.,\n       0., 0., 0., 0., 0., 0., 0., 0., 0., 0., 0., 0., 1., 0., 0., 0., 1.,\n       0., 1., 1., 0., 0., 0., 0., 0., 1., 0., 0., 0., 0., 0., 0., 1., 0.,\n       1., 1., 0., 0., 0., 0., 0., 1., 0., 1., 1., 0., 0., 1., 0., 0., 0.,\n       0., 1., 0., 0., 0., 0., 0., 1., 1., 0., 0., 0., 0., 0., 0., 0., 0.,\n       0., 0., 1., 0., 0., 1., 1., 0., 0., 0., 1., 0., 0., 0., 0., 0., 0.,\n       1., 1., 0., 1., 0., 0., 0., 1., 0., 0., 1., 0., 0., 1., 0., 1., 0.,\n       0., 0., 1., 0., 0., 0., 1., 0., 0., 1., 0., 0., 0., 1., 0., 0., 1.,\n       0., 0., 0., 0., 0., 0., 0., 0., 0., 0., 1., 1., 0., 0., 0., 0., 0.,\n       1., 0., 0., 0., 0., 0., 1., 0., 1., 0., 0., 0., 0., 0., 0., 0., 0.,\n       0., 1., 0., 0., 0., 0., 0., 0., 0., 0., 1., 0., 0., 0., 1., 1., 0.,\n       1., 0., 0., 0., 0., 0., 0., 0., 0., 0., 0., 0., 0., 0., 0., 1., 0.,\n       0., 0., 0., 0., 0., 1., 0., 0., 0., 1., 1., 1., 1., 0., 0., 0., 1.,\n       0., 0., 1., 0., 0., 0., 1., 0., 1., 0., 0., 1., 0., 1., 0., 0., 0.,\n       0., 1., 0., 1., 0., 0., 0., 0., 1., 0., 1., 0., 0., 1., 0., 0., 0.,\n       0., 0., 0., 1., 0., 0., 0., 0., 0., 0., 0., 1., 0., 0., 0., 0., 0.,\n       1., 0., 1., 0., 0., 0., 0., 1., 0., 0., 0., 0., 0., 0., 0., 0., 0.,\n       1., 0., 0., 0., 1., 0., 0., 1., 0., 0., 1., 0., 0., 0., 0., 0., 0.,\n       0., 0., 0., 1., 0., 0., 0., 1., 1., 0., 0., 0., 0., 0., 0., 0., 0.,\n       1., 1., 0., 0., 0., 0., 1., 0., 0.])"
          },
          "metadata": {}
        }
      ]
    },
    {
      "cell_type": "code",
      "source": "predict_proba = LR.predict_proba(x_test)\npredict_proba",
      "metadata": {
        "trusted": true
      },
      "execution_count": 48,
      "outputs": [
        {
          "execution_count": 48,
          "output_type": "execute_result",
          "data": {
            "text/plain": "array([[0.92356779, 0.07643221],\n       [0.82910957, 0.17089043],\n       [0.03750963, 0.96249037],\n       ...,\n       [0.13336094, 0.86663906],\n       [0.85965274, 0.14034726],\n       [0.6314862 , 0.3685138 ]])"
          },
          "metadata": {}
        }
      ]
    },
    {
      "cell_type": "markdown",
      "source": "#### Q15) Using the `predictions`, `predict_proba` and the `y_test` dataframe calculate the value for each metric using the appropriate function.\n",
      "metadata": {}
    },
    {
      "cell_type": "code",
      "source": "#Enter Your Code, Execute and take the Screenshot",
      "metadata": {},
      "execution_count": null,
      "outputs": []
    },
    {
      "cell_type": "code",
      "source": "from sklearn.metrics import log_loss\nlog_loss(y_test, predict_proba)",
      "metadata": {
        "trusted": true
      },
      "execution_count": 51,
      "outputs": [
        {
          "execution_count": 51,
          "output_type": "execute_result",
          "data": {
            "text/plain": "0.35860574299774195"
          },
          "metadata": {}
        }
      ]
    },
    {
      "cell_type": "code",
      "source": "from sklearn.metrics import jaccard_score\njaccard_score(y_test, predictions,pos_label=0)",
      "metadata": {
        "trusted": true
      },
      "execution_count": 54,
      "outputs": [
        {
          "execution_count": 54,
          "output_type": "execute_result",
          "data": {
            "text/plain": "0.8103130755064457"
          },
          "metadata": {}
        }
      ]
    },
    {
      "cell_type": "markdown",
      "source": "### SVM\n",
      "metadata": {}
    },
    {
      "cell_type": "markdown",
      "source": "#### Q16) Create and train a SVM model called SVM using the training data (`x_train`, `y_train`).\n",
      "metadata": {}
    },
    {
      "cell_type": "code",
      "source": "#Enter Your Code Below, Execute, and Save the Screenshot of the Final Output",
      "metadata": {},
      "execution_count": null,
      "outputs": []
    },
    {
      "cell_type": "code",
      "source": "from sklearn import svm\nSVM = svm.SVC(kernel='rbf')\nSVM.fit(features_train, Y_train)",
      "metadata": {
        "trusted": true
      },
      "execution_count": 55,
      "outputs": [
        {
          "execution_count": 55,
          "output_type": "execute_result",
          "data": {
            "text/plain": "SVC()"
          },
          "metadata": {}
        }
      ]
    },
    {
      "cell_type": "markdown",
      "source": "#### Q17) Now use the `predict` method on the testing data (`x_test`) and save it to the array `predictions`.\n",
      "metadata": {}
    },
    {
      "cell_type": "code",
      "source": "#Enter Your Code Below, Execute, and Save the Screenshot of the Final Output",
      "metadata": {},
      "execution_count": null,
      "outputs": []
    },
    {
      "cell_type": "code",
      "source": "predictions =  SVM.predict(x_test)\npredictions",
      "metadata": {
        "trusted": true
      },
      "execution_count": 56,
      "outputs": [
        {
          "execution_count": 56,
          "output_type": "execute_result",
          "data": {
            "text/plain": "array([0., 0., 0., 0., 0., 0., 0., 0., 0., 0., 0., 0., 0., 0., 0., 0., 0.,\n       0., 0., 0., 0., 0., 0., 0., 0., 0., 0., 0., 0., 0., 0., 0., 0., 0.,\n       0., 0., 0., 0., 0., 0., 0., 0., 0., 0., 0., 0., 0., 0., 0., 0., 0.,\n       0., 0., 0., 0., 0., 0., 0., 0., 0., 0., 0., 0., 0., 0., 0., 0., 0.,\n       0., 0., 0., 0., 0., 0., 0., 0., 0., 0., 0., 0., 0., 0., 0., 0., 0.,\n       0., 0., 0., 0., 0., 0., 0., 0., 0., 0., 0., 0., 0., 0., 0., 0., 0.,\n       0., 0., 0., 0., 0., 0., 0., 0., 0., 0., 0., 0., 0., 0., 0., 0., 0.,\n       0., 0., 0., 0., 0., 0., 0., 0., 0., 0., 0., 0., 0., 0., 0., 0., 0.,\n       0., 0., 0., 0., 0., 0., 0., 0., 0., 0., 0., 0., 0., 0., 0., 0., 0.,\n       0., 0., 0., 0., 0., 0., 0., 0., 0., 0., 0., 0., 0., 0., 0., 0., 0.,\n       0., 0., 0., 0., 0., 0., 0., 0., 0., 0., 0., 0., 0., 0., 0., 0., 0.,\n       0., 0., 0., 0., 0., 0., 0., 0., 0., 0., 0., 0., 0., 0., 0., 0., 0.,\n       0., 0., 0., 0., 0., 0., 0., 0., 0., 0., 0., 0., 0., 0., 0., 0., 0.,\n       0., 0., 0., 0., 0., 0., 0., 0., 0., 0., 0., 0., 0., 0., 0., 0., 0.,\n       0., 0., 0., 0., 0., 0., 0., 0., 0., 0., 0., 0., 0., 0., 0., 0., 0.,\n       0., 0., 0., 0., 0., 0., 0., 0., 0., 0., 0., 0., 0., 0., 0., 0., 0.,\n       0., 0., 0., 0., 0., 0., 0., 0., 0., 0., 0., 0., 0., 0., 0., 0., 0.,\n       0., 0., 0., 0., 0., 0., 0., 0., 0., 0., 0., 0., 0., 0., 0., 0., 0.,\n       0., 0., 0., 0., 0., 0., 0., 0., 0., 0., 0., 0., 0., 0., 0., 0., 0.,\n       0., 0., 0., 0., 0., 0., 0., 0., 0., 0., 0., 0., 0., 0., 0., 0., 0.,\n       0., 0., 0., 0., 0., 0., 0., 0., 0., 0., 0., 0., 0., 0., 0., 0., 0.,\n       0., 0., 0., 0., 0., 0., 0., 0., 0., 0., 0., 0., 0., 0., 0., 0., 0.,\n       0., 0., 0., 0., 0., 0., 0., 0., 0., 0., 0., 0., 0., 0., 0., 0., 0.,\n       0., 0., 0., 0., 0., 0., 0., 0., 0., 0., 0., 0., 0., 0., 0., 0., 0.,\n       0., 0., 0., 0., 0., 0., 0., 0., 0., 0., 0., 0., 0., 0., 0., 0., 0.,\n       0., 0., 0., 0., 0., 0., 0., 0., 0., 0., 0., 0., 0., 0., 0., 0., 0.,\n       0., 0., 0., 0., 0., 0., 0., 0., 0., 0., 0., 0., 0., 0., 0., 0., 0.,\n       0., 0., 0., 0., 0., 0., 0., 0., 0., 0., 0., 0., 0., 0., 0., 0., 0.,\n       0., 0., 0., 0., 0., 0., 0., 0., 0., 0., 0., 0., 0., 0., 0., 0., 0.,\n       0., 0., 0., 0., 0., 0., 0., 0., 0., 0., 0., 0., 0., 0., 0., 0., 0.,\n       0., 0., 0., 0., 0., 0., 0., 0., 0., 0., 0., 0., 0., 0., 0., 0., 0.,\n       0., 0., 0., 0., 0., 0., 0., 0., 0., 0., 0., 0., 0., 0., 0., 0., 0.,\n       0., 0., 0., 0., 0., 0., 0., 0., 0., 0., 0., 0., 0., 0., 0., 0., 0.,\n       0., 0., 0., 0., 0., 0., 0., 0., 0., 0., 0., 0., 0., 0., 0., 0., 0.,\n       0., 0., 0., 0., 0., 0., 0., 0., 0., 0., 0., 0., 0., 0., 0., 0., 0.,\n       0., 0., 0., 0., 0., 0., 0., 0., 0., 0., 0., 0., 0., 0., 0., 0., 0.,\n       0., 0., 0., 0., 0., 0., 0., 0., 0., 0., 0., 0., 0., 0., 0., 0., 0.,\n       0., 0., 0., 0., 0., 0., 0., 0., 0., 0., 0., 0., 0., 0., 0., 0., 0.,\n       0., 0., 0., 0., 0., 0., 0., 0., 0.])"
          },
          "metadata": {}
        }
      ]
    },
    {
      "cell_type": "markdown",
      "source": "#### Q18) Using the `predictions` and the `y_test` dataframe calculate the value for each metric using the appropriate function.\n",
      "metadata": {}
    },
    {
      "cell_type": "code",
      "source": "from sklearn.metrics import f1_score\nf1_score(y_test, predictions, average='weighted')",
      "metadata": {
        "trusted": true
      },
      "execution_count": 57,
      "outputs": [
        {
          "execution_count": 57,
          "output_type": "execute_result",
          "data": {
            "text/plain": "0.6015782408851165"
          },
          "metadata": {}
        }
      ]
    },
    {
      "cell_type": "code",
      "source": "from sklearn.metrics import jaccard_score\njaccard_score(y_test, predictions,pos_label=0.0)",
      "metadata": {
        "trusted": true
      },
      "execution_count": 60,
      "outputs": [
        {
          "execution_count": 60,
          "output_type": "execute_result",
          "data": {
            "text/plain": "0.7190839694656489"
          },
          "metadata": {}
        }
      ]
    },
    {
      "cell_type": "code",
      "source": "SVM_Accuracy_Score = \nSVM_JaccardIndex = \nSVM_F1_Score = ",
      "metadata": {},
      "execution_count": null,
      "outputs": []
    },
    {
      "cell_type": "markdown",
      "source": "### Report\n",
      "metadata": {}
    },
    {
      "cell_type": "markdown",
      "source": "#### Q19) Show the Accuracy,Jaccard Index,F1-Score and LogLoss in a tabular format using data frame for all of the above models.\n\n\\*LogLoss is only for Logistic Regression Model\n",
      "metadata": {}
    },
    {
      "cell_type": "code",
      "source": "Report = ",
      "metadata": {},
      "execution_count": null,
      "outputs": []
    },
    {
      "cell_type": "markdown",
      "source": "<h2 id=\"Section_5\">  How to submit </h2>\n\n<p>Once you complete your notebook you will have to share it. You can download the notebook by navigating to \"File\" and clicking on \"Download\" button.\n\n<p>This will save the (.ipynb) file on your computer. Once saved, you can upload this file in the \"My Submission\" tab, of the \"Peer-graded Assignment\" section.  \n",
      "metadata": {}
    },
    {
      "cell_type": "markdown",
      "source": "<h2>About the Authors:</h2> \n\n<a href=\"https://www.linkedin.com/in/joseph-s-50398b136/?utm_medium=Exinfluencer&utm_source=Exinfluencer&utm_content=000026UJ&utm_term=10006555&utm_id=NA-SkillsNetwork-Channel-SkillsNetworkCoursesIBMDeveloperSkillsNetworkML0101ENSkillsNetwork20718538-2022-01-01\">Joseph Santarcangelo</a> has a PhD in Electrical Engineering, his research focused on using machine learning, signal processing, and computer vision to determine how videos impact human cognition. Joseph has been working for IBM since he completed his PhD.\n\n### Other Contributors\n\n[Svitlana Kramar](https://www.linkedin.com/in/svitlana-kramar/?utm_medium=Exinfluencer&utm_source=Exinfluencer&utm_content=000026UJ&utm_term=10006555&utm_id=NA-SkillsNetwork-Channel-SkillsNetworkCoursesIBMML0232ENSkillsNetwork30654641-2022-01-01)\n",
      "metadata": {}
    },
    {
      "cell_type": "markdown",
      "source": "## Change Log\n\n| Date (YYYY-MM-DD) | Version | Changed By    | Change Description          |\n| ----------------- | ------- | ------------- | --------------------------- |\n| 2023-04-10        | 2.1     | Anita Verma  | Removed \"RISK_MM\" and updated Q14 and Q15 |\n| 2022-06-22        | 2.0     | Svitlana K.   | Deleted GridSearch and Mock |\n\n\n## <h3 align=\"center\"> © IBM Corporation 2020. All rights reserved. <h3/>\n",
      "metadata": {}
    }
  ]
}